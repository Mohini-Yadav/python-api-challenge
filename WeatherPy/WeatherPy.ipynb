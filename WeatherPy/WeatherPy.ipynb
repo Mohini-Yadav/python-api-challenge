{
 "cells": [
  {
   "cell_type": "markdown",
   "metadata": {},
   "source": [
    "# WeatherPy\n",
    "----\n",
    "\n",
    "#### Note\n",
    "* Instructions have been included for each segment. You do not have to follow them exactly, but they are included to help you think through the steps."
   ]
  },
  {
   "cell_type": "code",
   "execution_count": 21,
   "metadata": {
    "scrolled": true
   },
   "outputs": [],
   "source": [
    "# Dependencies and Setup\n",
    "import matplotlib.pyplot as plt\n",
    "import pandas as pd\n",
    "import numpy as np\n",
    "import requests\n",
    "import json\n",
    "import time\n",
    "from scipy.stats import linregress\n",
    "\n",
    "# Import API key\n",
    "from api_keys import weather_api_key\n",
    "\n",
    "# Incorporated citipy to determine city based on latitude and longitude\n",
    "from citipy import citipy\n",
    "\n",
    "# Output File (CSV)\n",
    "output_data_file = \"output_data/cities.csv\"\n",
    "\n",
    "# Range of latitudes and longitudes\n",
    "lat_range = (-90, 90)\n",
    "lng_range = (-180, 180)"
   ]
  },
  {
   "cell_type": "markdown",
   "metadata": {},
   "source": [
    "## Generate Cities List"
   ]
  },
  {
   "cell_type": "code",
   "execution_count": 22,
   "metadata": {},
   "outputs": [
    {
     "data": {
      "text/plain": [
       "606"
      ]
     },
     "execution_count": 22,
     "metadata": {},
     "output_type": "execute_result"
    }
   ],
   "source": [
    "# List for holding lat_lngs and cities\n",
    "lat_lngs = []\n",
    "cities = []\n",
    "\n",
    "# Create a set of random lat and lng combinations\n",
    "lats = np.random.uniform(lat_range[0], lat_range[1], size=1500)\n",
    "lngs = np.random.uniform(lng_range[0], lng_range[1], size=1500)\n",
    "lat_lngs = zip(lats, lngs)\n",
    "\n",
    "# Identify nearest city for each lat, lng combination\n",
    "for lat_lng in lat_lngs:\n",
    "    city = citipy.nearest_city(lat_lng[0], lat_lng[1]).city_name\n",
    "    \n",
    "    # If the city is unique, then add it to a our cities list\n",
    "    if city not in cities:\n",
    "        cities.append(city)\n",
    "\n",
    "# Print the city count to confirm sufficient count\n",
    "len(cities)"
   ]
  },
  {
   "cell_type": "markdown",
   "metadata": {},
   "source": [
    "### Perform API Calls\n",
    "* Perform a weather check on each city using a series of successive API calls.\n",
    "* Include a print log of each city as it'sbeing processed (with the city number and city name).\n"
   ]
  },
  {
   "cell_type": "code",
   "execution_count": 23,
   "metadata": {
    "scrolled": true
   },
   "outputs": [
    {
     "name": "stdout",
     "output_type": "stream",
     "text": [
      "Processing record 1 of Set 1 | cabo san lucas\n",
      "Processing record 2 of Set 1 | oriximina\n",
      "Processing record 3 of Set 1 | georgetown\n",
      "Processing record 4 of Set 1 | sibolga\n",
      "Processing record 5 of Set 1 | saldanha\n",
      "Processing record 6 of Set 1 | esperance\n",
      "Processing record 7 of Set 1 | hofn\n",
      "Processing record 8 of Set 1 | yellowknife\n",
      "Processing record 9 of Set 1 | butaritari\n",
      "Processing record 10 of Set 1 | kapaa\n",
      "Record not found\n",
      "Processing record 11 of Set 1 | rovaniemi\n",
      "Processing record 12 of Set 1 | teahupoo\n",
      "Processing record 13 of Set 1 | port alfred\n",
      "Processing record 14 of Set 1 | rikitea\n",
      "Record not found\n",
      "Processing record 15 of Set 1 | dauriya\n",
      "Processing record 16 of Set 1 | luderitz\n",
      "Processing record 17 of Set 1 | riyadh\n",
      "Processing record 18 of Set 1 | sangar\n",
      "Processing record 19 of Set 1 | bambous virieux\n",
      "Processing record 20 of Set 1 | nikolskoye\n",
      "Processing record 21 of Set 1 | punta arenas\n",
      "Processing record 22 of Set 1 | busselton\n",
      "Processing record 23 of Set 1 | jamestown\n",
      "Processing record 24 of Set 1 | codrington\n",
      "Processing record 25 of Set 1 | middelkerke\n",
      "Processing record 26 of Set 1 | santa maria da vitoria\n",
      "Processing record 27 of Set 1 | marawi\n",
      "Processing record 28 of Set 1 | katsuura\n",
      "Processing record 29 of Set 1 | nogliki\n",
      "Processing record 30 of Set 1 | hobart\n",
      "Record not found\n",
      "Processing record 31 of Set 1 | leh\n",
      "Processing record 32 of Set 1 | lebu\n",
      "Processing record 33 of Set 1 | qaanaaq\n",
      "Processing record 34 of Set 1 | carutapera\n",
      "Processing record 35 of Set 1 | albany\n",
      "Processing record 36 of Set 1 | atar\n",
      "Processing record 37 of Set 1 | mastic beach\n",
      "Processing record 38 of Set 1 | arraial do cabo\n",
      "Processing record 39 of Set 1 | bredasdorp\n",
      "Processing record 40 of Set 1 | novonukutskiy\n",
      "Processing record 41 of Set 1 | vostok\n",
      "Processing record 42 of Set 1 | sarankhola\n",
      "Processing record 43 of Set 1 | atuona\n",
      "Processing record 44 of Set 1 | sabang\n",
      "Processing record 45 of Set 1 | belaya gora\n",
      "Processing record 46 of Set 1 | necochea\n",
      "Processing record 47 of Set 1 | hermanus\n",
      "Processing record 48 of Set 1 | la ronge\n",
      "Record not found\n",
      "Processing record 49 of Set 1 | cherskiy\n",
      "Record not found\n",
      "Processing record 50 of Set 1 | hami\n",
      "Processing record 51 of Set 1 | chokurdakh\n",
      "Processing record 52 of Set 1 | ushuaia\n",
      "Processing record 53 of Set 1 | sao filipe\n",
      "Processing record 54 of Set 1 | katobu\n",
      "Processing record 55 of Set 1 | pevek\n",
      "Processing record 56 of Set 1 | ribeira grande\n",
      "Processing record 57 of Set 1 | archidona\n",
      "Processing record 58 of Set 1 | porto novo\n",
      "Processing record 59 of Set 1 | kassala\n",
      "Processing record 60 of Set 1 | fare\n",
      "Processing record 61 of Set 1 | dumas\n",
      "Processing record 62 of Set 1 | san patricio\n",
      "Record not found\n",
      "Processing record 63 of Set 1 | victoria\n",
      "Processing record 64 of Set 1 | labuhan\n",
      "Processing record 65 of Set 1 | show low\n",
      "Processing record 66 of Set 1 | los llanos de aridane\n",
      "Processing record 67 of Set 1 | longhua\n",
      "Processing record 68 of Set 1 | aksu\n",
      "Processing record 69 of Set 1 | upernavik\n",
      "Processing record 70 of Set 1 | araouane\n",
      "Processing record 71 of Set 1 | senj\n",
      "Processing record 72 of Set 1 | longyearbyen\n",
      "Processing record 73 of Set 1 | tiksi\n",
      "Processing record 74 of Set 1 | flinders\n",
      "Processing record 75 of Set 1 | thompson\n",
      "Processing record 76 of Set 1 | harper\n",
      "Processing record 77 of Set 1 | faanui\n",
      "Processing record 78 of Set 1 | sioux lookout\n",
      "Processing record 79 of Set 1 | seredka\n",
      "Processing record 80 of Set 1 | bilibino\n",
      "Processing record 81 of Set 1 | new norfolk\n",
      "Processing record 82 of Set 1 | north platte\n",
      "Processing record 83 of Set 1 | kailua\n",
      "Processing record 84 of Set 1 | udachnyy\n",
      "Processing record 85 of Set 1 | kidal\n",
      "Processing record 86 of Set 1 | cape town\n",
      "Processing record 87 of Set 1 | vaini\n",
      "Processing record 88 of Set 1 | orcopampa\n",
      "Processing record 89 of Set 1 | mitsamiouli\n",
      "Processing record 90 of Set 1 | tabuk\n",
      "Processing record 91 of Set 1 | ajdabiya\n",
      "Processing record 92 of Set 1 | bulgan\n",
      "Processing record 93 of Set 1 | victor harbor\n",
      "Processing record 94 of Set 1 | tilichiki\n",
      "Processing record 95 of Set 1 | tanabe\n",
      "Processing record 96 of Set 1 | wilkes-barre\n",
      "Processing record 97 of Set 1 | fairbanks\n",
      "Record not found\n",
      "Processing record 98 of Set 1 | henties bay\n",
      "Processing record 99 of Set 1 | oda\n",
      "Processing record 100 of Set 1 | hithadhoo\n",
      "Processing record 101 of Set 1 | torbay\n",
      "Processing record 102 of Set 1 | port blair\n",
      "Processing record 103 of Set 1 | severo-kurilsk\n",
      "Processing record 104 of Set 1 | buala\n",
      "Processing record 105 of Set 1 | mataura\n",
      "Processing record 106 of Set 1 | saskylakh\n",
      "Processing record 107 of Set 1 | east london\n",
      "Processing record 108 of Set 1 | farkhor\n",
      "Record not found\n",
      "Record not found\n",
      "Processing record 109 of Set 1 | qinhuangdao\n",
      "Processing record 110 of Set 1 | rundu\n",
      "Processing record 111 of Set 1 | avarua\n",
      "Processing record 112 of Set 1 | vestmannaeyjar\n",
      "Processing record 113 of Set 1 | svodna\n",
      "Record not found\n",
      "Processing record 114 of Set 1 | bluff\n",
      "Processing record 115 of Set 1 | lagos\n",
      "Processing record 116 of Set 1 | inhambane\n",
      "Processing record 117 of Set 1 | lenine\n",
      "Processing record 118 of Set 1 | praia\n",
      "Processing record 119 of Set 1 | san cristobal\n",
      "Processing record 120 of Set 1 | pisco\n",
      "Processing record 121 of Set 1 | plouzane\n",
      "Processing record 122 of Set 1 | illapel\n",
      "Record not found\n",
      "Processing record 123 of Set 1 | hervey bay\n",
      "Processing record 124 of Set 1 | tuktoyaktuk\n",
      "Processing record 125 of Set 1 | xinzhi\n",
      "Record not found\n",
      "Processing record 126 of Set 1 | canutama\n",
      "Processing record 127 of Set 1 | abu kamal\n",
      "Processing record 128 of Set 1 | vitim\n",
      "Processing record 129 of Set 1 | makakilo city\n",
      "Processing record 130 of Set 1 | hangal\n",
      "Processing record 131 of Set 1 | dikson\n",
      "Processing record 132 of Set 1 | benghazi\n",
      "Processing record 133 of Set 1 | almaznyy\n",
      "Processing record 134 of Set 1 | pangody\n",
      "Record not found\n",
      "Processing record 135 of Set 1 | mecca\n",
      "Processing record 136 of Set 1 | bontang\n",
      "Record not found\n",
      "Processing record 137 of Set 1 | norman wells\n",
      "Processing record 138 of Set 1 | vila velha\n",
      "Processing record 139 of Set 1 | miloslavskoye\n",
      "Record not found\n",
      "Processing record 140 of Set 1 | bakhtiyarpur\n",
      "Processing record 141 of Set 1 | puerto ayora\n",
      "Processing record 142 of Set 1 | alihe\n",
      "Processing record 143 of Set 1 | ostrovnoy\n",
      "Record not found\n",
      "Processing record 144 of Set 1 | masvingo\n",
      "Processing record 145 of Set 1 | patrocinio\n",
      "Record not found\n",
      "Processing record 146 of Set 1 | barrow\n",
      "Processing record 147 of Set 1 | blagoyevo\n",
      "Processing record 148 of Set 1 | nanortalik\n",
      "Processing record 149 of Set 1 | vagur\n",
      "Processing record 150 of Set 1 | iroquois falls\n",
      "Processing record 151 of Set 1 | vardo\n",
      "Record not found\n",
      "Processing record 152 of Set 1 | seoul\n",
      "Processing record 153 of Set 1 | griffith\n",
      "Record not found\n",
      "Processing record 154 of Set 1 | vila franca do campo\n",
      "Processing record 155 of Set 1 | biak\n",
      "Processing record 156 of Set 1 | sitka\n",
      "Processing record 157 of Set 1 | yuci\n",
      "Processing record 158 of Set 1 | morrinhos\n",
      "Processing record 159 of Set 1 | kavaratti\n",
      "Processing record 160 of Set 1 | santa\n",
      "Processing record 161 of Set 1 | ancud\n",
      "Processing record 162 of Set 1 | hilo\n",
      "Processing record 163 of Set 1 | hualmay\n",
      "Processing record 164 of Set 1 | nizhniy tsasuchey\n",
      "Processing record 165 of Set 1 | beysehir\n",
      "Processing record 166 of Set 1 | maceio\n",
      "Processing record 167 of Set 1 | agadez\n",
      "Processing record 168 of Set 1 | tateyama\n",
      "Processing record 169 of Set 1 | beringovskiy\n",
      "Processing record 170 of Set 1 | korla\n",
      "Processing record 171 of Set 1 | chuy\n",
      "Processing record 172 of Set 1 | aswan\n",
      "Processing record 173 of Set 1 | mahebourg\n",
      "Record not found\n",
      "Processing record 174 of Set 1 | kaitangata\n",
      "Processing record 175 of Set 1 | hibbing\n",
      "Processing record 176 of Set 1 | tasiilaq\n",
      "Processing record 177 of Set 1 | adrar\n",
      "Processing record 178 of Set 1 | leningradskiy\n",
      "Processing record 179 of Set 1 | wajir\n",
      "Processing record 180 of Set 1 | airai\n",
      "Processing record 181 of Set 1 | saint-cyr-sur-loire\n",
      "Processing record 182 of Set 1 | lensk\n",
      "Processing record 183 of Set 1 | cabral\n",
      "Processing record 184 of Set 1 | tymovskoye\n",
      "Processing record 185 of Set 1 | fort nelson\n",
      "Record not found\n",
      "Processing record 186 of Set 1 | lasa\n",
      "Processing record 187 of Set 1 | houma\n",
      "Processing record 188 of Set 1 | college\n"
     ]
    },
    {
     "name": "stdout",
     "output_type": "stream",
     "text": [
      "Processing record 189 of Set 1 | salalah\n",
      "Processing record 190 of Set 1 | souillac\n",
      "Processing record 191 of Set 1 | faranah\n",
      "Processing record 192 of Set 1 | lodja\n",
      "Processing record 193 of Set 1 | bandar-e lengeh\n",
      "Processing record 194 of Set 1 | amazar\n",
      "Record not found\n",
      "Processing record 195 of Set 1 | kruisfontein\n",
      "Processing record 196 of Set 1 | hamilton\n",
      "Processing record 197 of Set 1 | pietersburg\n",
      "Processing record 198 of Set 1 | dakar\n",
      "Processing record 199 of Set 1 | andros town\n",
      "Processing record 200 of Set 1 | siniscola\n",
      "Processing record 201 of Set 1 | arica\n",
      "Processing record 202 of Set 1 | yarmouth\n",
      "Record not found\n",
      "Processing record 203 of Set 1 | geraldton\n",
      "Processing record 204 of Set 1 | san jeronimo\n",
      "Processing record 205 of Set 1 | saint-francois\n",
      "Processing record 206 of Set 1 | melur\n",
      "Processing record 207 of Set 1 | hirara\n",
      "Processing record 208 of Set 1 | saint george\n",
      "Processing record 209 of Set 1 | lichinga\n",
      "Processing record 210 of Set 1 | kirakira\n",
      "Processing record 211 of Set 1 | broken hill\n",
      "Processing record 212 of Set 1 | grand gaube\n",
      "Processing record 213 of Set 1 | poya\n",
      "Processing record 214 of Set 1 | uren\n",
      "Processing record 215 of Set 1 | ibicui\n",
      "Processing record 216 of Set 1 | sirari\n",
      "Processing record 217 of Set 1 | rio grande\n",
      "Processing record 218 of Set 1 | paamiut\n",
      "Processing record 219 of Set 1 | port augusta\n",
      "Processing record 220 of Set 1 | fortaleza\n",
      "Processing record 221 of Set 1 | mar del plata\n",
      "Processing record 222 of Set 1 | vao\n",
      "Record not found\n",
      "Processing record 223 of Set 1 | lompoc\n",
      "Processing record 224 of Set 1 | alice springs\n",
      "Processing record 225 of Set 1 | alcaniz\n",
      "Processing record 226 of Set 1 | emilio carranza\n",
      "Processing record 227 of Set 1 | wukari\n",
      "Record not found\n",
      "Processing record 228 of Set 1 | ko samui\n",
      "Processing record 229 of Set 1 | panguipulli\n",
      "Processing record 230 of Set 1 | mountain home\n",
      "Processing record 231 of Set 1 | mandera\n",
      "Processing record 232 of Set 1 | mayor pablo lagerenza\n",
      "Processing record 233 of Set 1 | erenhot\n",
      "Processing record 234 of Set 1 | ndele\n",
      "Processing record 235 of Set 1 | asau\n",
      "Record not found\n",
      "Processing record 236 of Set 1 | vilyuysk\n",
      "Processing record 237 of Set 1 | najran\n",
      "Processing record 238 of Set 1 | namibe\n",
      "Processing record 239 of Set 1 | kaabong\n",
      "Processing record 240 of Set 1 | zambezi\n",
      "Processing record 241 of Set 1 | tecoanapa\n",
      "Processing record 242 of Set 1 | itarema\n",
      "Processing record 243 of Set 1 | cidreira\n",
      "Processing record 244 of Set 1 | saint-philippe\n",
      "Processing record 245 of Set 1 | klaksvik\n",
      "Processing record 246 of Set 1 | qaqortoq\n",
      "Processing record 247 of Set 1 | sola\n",
      "Processing record 248 of Set 1 | alvorada\n",
      "Processing record 249 of Set 1 | comodoro rivadavia\n",
      "Processing record 250 of Set 1 | labytnangi\n",
      "Processing record 251 of Set 1 | antofagasta\n",
      "Processing record 252 of Set 1 | gizo\n",
      "Processing record 253 of Set 1 | iracoubo\n",
      "Processing record 254 of Set 1 | idlib\n",
      "Processing record 255 of Set 1 | dzhebariki-khaya\n",
      "Processing record 256 of Set 1 | bengkulu\n",
      "Processing record 257 of Set 1 | antsohihy\n",
      "Processing record 258 of Set 1 | provideniya\n",
      "Processing record 259 of Set 1 | isangel\n",
      "Processing record 260 of Set 1 | castro\n",
      "Processing record 261 of Set 1 | kenora\n",
      "Processing record 262 of Set 1 | honiara\n",
      "Processing record 263 of Set 1 | dharmavaram\n",
      "Processing record 264 of Set 1 | shanghai\n",
      "Processing record 265 of Set 1 | omboue\n",
      "Processing record 266 of Set 1 | pilar\n",
      "Processing record 267 of Set 1 | deputatskiy\n",
      "Processing record 268 of Set 1 | harrisburg\n",
      "Processing record 269 of Set 1 | langsa\n",
      "Processing record 270 of Set 1 | tsaratanana\n",
      "Processing record 271 of Set 1 | tautira\n",
      "Processing record 272 of Set 1 | imbituba\n",
      "Processing record 273 of Set 1 | sayyan\n",
      "Processing record 274 of Set 1 | port lincoln\n",
      "Processing record 275 of Set 1 | xingyi\n",
      "Processing record 276 of Set 1 | songea\n",
      "Processing record 277 of Set 1 | strezhevoy\n",
      "Processing record 278 of Set 1 | walvis bay\n",
      "Processing record 279 of Set 1 | tuatapere\n",
      "Processing record 280 of Set 1 | northam\n",
      "Processing record 281 of Set 1 | namwala\n",
      "Processing record 282 of Set 1 | buchanan\n",
      "Processing record 283 of Set 1 | barra do garcas\n",
      "Processing record 284 of Set 1 | guerrero negro\n",
      "Processing record 285 of Set 1 | langham\n",
      "Processing record 286 of Set 1 | yarkovo\n",
      "Processing record 287 of Set 1 | lamar\n",
      "Processing record 288 of Set 1 | batagay\n",
      "Processing record 289 of Set 1 | mayo\n",
      "Processing record 290 of Set 1 | kuusamo\n",
      "Record not found\n",
      "Record not found\n",
      "Processing record 291 of Set 1 | brookhaven\n",
      "Processing record 292 of Set 1 | cururupu\n",
      "Processing record 293 of Set 1 | khatanga\n",
      "Processing record 294 of Set 1 | olafsvik\n",
      "Processing record 295 of Set 1 | atherton\n",
      "Processing record 296 of Set 1 | madaoua\n",
      "Processing record 297 of Set 1 | carnarvon\n",
      "Processing record 298 of Set 1 | sakakah\n",
      "Processing record 299 of Set 1 | kushima\n",
      "Processing record 300 of Set 1 | meulaboh\n",
      "Processing record 301 of Set 1 | krasnorechenskiy\n",
      "Record not found\n",
      "Processing record 302 of Set 1 | lavrentiya\n",
      "Processing record 303 of Set 1 | vaitape\n",
      "Processing record 304 of Set 1 | namatanai\n",
      "Processing record 305 of Set 1 | daru\n",
      "Processing record 306 of Set 1 | brae\n",
      "Processing record 307 of Set 1 | saravan\n",
      "Processing record 308 of Set 1 | suifenhe\n",
      "Processing record 309 of Set 1 | yanam\n",
      "Processing record 310 of Set 1 | petropavlovsk-kamchatskiy\n",
      "Processing record 311 of Set 1 | nyurba\n",
      "Processing record 312 of Set 1 | pitimbu\n",
      "Processing record 313 of Set 1 | laguna\n",
      "Processing record 314 of Set 1 | plettenberg bay\n",
      "Processing record 315 of Set 1 | maniitsoq\n",
      "Processing record 316 of Set 1 | cookeville\n",
      "Processing record 317 of Set 1 | bastia\n",
      "Processing record 318 of Set 1 | okha\n",
      "Processing record 319 of Set 1 | porbandar\n",
      "Processing record 320 of Set 1 | yakymivka\n",
      "Processing record 321 of Set 1 | olathe\n",
      "Record not found\n",
      "Processing record 322 of Set 1 | cap malheureux\n",
      "Processing record 323 of Set 1 | te anau\n",
      "Processing record 324 of Set 1 | alice town\n",
      "Processing record 325 of Set 1 | ilhabela\n",
      "Processing record 326 of Set 1 | east massapequa\n",
      "Processing record 327 of Set 1 | padang\n",
      "Processing record 328 of Set 1 | sambava\n",
      "Processing record 329 of Set 1 | douglas\n",
      "Processing record 330 of Set 1 | erzin\n",
      "Processing record 331 of Set 1 | nome\n",
      "Processing record 332 of Set 1 | mpanda\n",
      "Processing record 333 of Set 1 | el dorado\n",
      "Processing record 334 of Set 1 | betioky\n",
      "Processing record 335 of Set 1 | vila\n",
      "Processing record 336 of Set 1 | upata\n",
      "Record not found\n",
      "Processing record 337 of Set 1 | norsup\n",
      "Processing record 338 of Set 1 | kasane\n",
      "Processing record 339 of Set 1 | bereda\n",
      "Processing record 340 of Set 1 | bad salzungen\n",
      "Processing record 341 of Set 1 | seymchan\n",
      "Processing record 342 of Set 1 | anloga\n",
      "Processing record 343 of Set 1 | zhigansk\n",
      "Processing record 344 of Set 1 | soyo\n",
      "Processing record 345 of Set 1 | kapoeta\n",
      "Processing record 346 of Set 1 | amuntai\n",
      "Processing record 347 of Set 1 | ahipara\n",
      "Processing record 348 of Set 1 | coquimbo\n",
      "Processing record 349 of Set 1 | presque isle\n",
      "Processing record 350 of Set 1 | constitucion\n",
      "Processing record 351 of Set 1 | vestmanna\n",
      "Processing record 352 of Set 1 | esna\n",
      "Processing record 353 of Set 1 | nador\n",
      "Processing record 354 of Set 1 | iqaluit\n",
      "Processing record 355 of Set 1 | berdsk\n",
      "Processing record 356 of Set 1 | husavik\n",
      "Processing record 357 of Set 1 | kodiak\n",
      "Record not found\n",
      "Processing record 358 of Set 1 | ponta do sol\n",
      "Processing record 359 of Set 1 | nioro\n",
      "Processing record 360 of Set 1 | novi pazar\n",
      "Processing record 361 of Set 1 | bogalusa\n",
      "Processing record 362 of Set 1 | salym\n",
      "Processing record 363 of Set 1 | bagru\n",
      "Processing record 364 of Set 1 | bhadrachalam\n",
      "Processing record 365 of Set 1 | rawson\n",
      "Processing record 366 of Set 1 | galle\n",
      "Processing record 367 of Set 1 | sembe\n",
      "Processing record 368 of Set 1 | tsiroanomandidy\n",
      "Processing record 369 of Set 1 | ovruch\n",
      "Processing record 370 of Set 1 | bang saphan\n",
      "Processing record 371 of Set 1 | mahanje\n",
      "Record not found\n",
      "Processing record 372 of Set 1 | lagoa\n",
      "Processing record 373 of Set 1 | haines junction\n",
      "Processing record 374 of Set 1 | les cayes\n",
      "Processing record 375 of Set 1 | kokopo\n",
      "Processing record 376 of Set 1 | havelock\n",
      "Processing record 377 of Set 1 | vikhorevka\n",
      "Processing record 378 of Set 1 | nauta\n"
     ]
    },
    {
     "name": "stdout",
     "output_type": "stream",
     "text": [
      "Processing record 379 of Set 1 | aosta\n",
      "Processing record 380 of Set 1 | kununurra\n",
      "Processing record 381 of Set 1 | lake havasu city\n",
      "Processing record 382 of Set 1 | ngunguru\n",
      "Processing record 383 of Set 1 | portland\n",
      "Processing record 384 of Set 1 | bethel\n",
      "Processing record 385 of Set 1 | batouri\n",
      "Processing record 386 of Set 1 | nurota\n",
      "Processing record 387 of Set 1 | tubuala\n",
      "Processing record 388 of Set 1 | kimbe\n",
      "Record not found\n",
      "Processing record 389 of Set 1 | ladnun\n",
      "Processing record 390 of Set 1 | mount gambier\n",
      "Processing record 391 of Set 1 | jashpurnagar\n",
      "Processing record 392 of Set 1 | saint-pierre\n",
      "Processing record 393 of Set 1 | huilong\n",
      "Processing record 394 of Set 1 | yenagoa\n",
      "Processing record 395 of Set 1 | mweka\n",
      "Processing record 396 of Set 1 | opuwo\n",
      "Processing record 397 of Set 1 | kasempa\n",
      "Processing record 398 of Set 1 | karla\n",
      "Processing record 399 of Set 1 | miles city\n",
      "Processing record 400 of Set 1 | santo amaro da imperatriz\n",
      "Processing record 401 of Set 1 | tabou\n",
      "Processing record 402 of Set 1 | shelburne\n",
      "Processing record 403 of Set 1 | la rioja\n",
      "Processing record 404 of Set 1 | changji\n",
      "Processing record 405 of Set 1 | komsomolskiy\n",
      "Processing record 406 of Set 1 | nago\n",
      "Processing record 407 of Set 1 | zyryanka\n",
      "Processing record 408 of Set 1 | kanigoro\n",
      "Processing record 409 of Set 1 | kavieng\n",
      "Processing record 410 of Set 1 | talara\n",
      "Processing record 411 of Set 1 | santa maria\n",
      "Processing record 412 of Set 1 | muli\n",
      "Processing record 413 of Set 1 | dibombari\n",
      "Processing record 414 of Set 1 | mahibadhoo\n",
      "Processing record 415 of Set 1 | gilgit\n",
      "Processing record 416 of Set 1 | khanpur\n",
      "Processing record 417 of Set 1 | chumikan\n",
      "Processing record 418 of Set 1 | hvolsvollur\n",
      "Processing record 419 of Set 1 | ilulissat\n",
      "Record not found\n",
      "Processing record 420 of Set 1 | isla vista\n",
      "Processing record 421 of Set 1 | panama city\n",
      "Processing record 422 of Set 1 | bac lieu\n",
      "Processing record 423 of Set 1 | bystrice nad pernstejnem\n",
      "Processing record 424 of Set 1 | tura\n",
      "Processing record 425 of Set 1 | urumqi\n",
      "Processing record 426 of Set 1 | progreso\n",
      "Processing record 427 of Set 1 | kenai\n",
      "Processing record 428 of Set 1 | sonoita\n",
      "Processing record 429 of Set 1 | alofi\n",
      "Processing record 430 of Set 1 | yulara\n",
      "Processing record 431 of Set 1 | sao joao da barra\n",
      "Processing record 432 of Set 1 | ilabaya\n",
      "Processing record 433 of Set 1 | bairiki\n",
      "Processing record 434 of Set 1 | iranduba\n",
      "Processing record 435 of Set 1 | tezu\n",
      "Processing record 436 of Set 1 | manaquiri\n",
      "Processing record 437 of Set 1 | avera\n",
      "Processing record 438 of Set 1 | omsukchan\n",
      "Processing record 439 of Set 1 | manokwari\n",
      "Processing record 440 of Set 1 | amahai\n",
      "Processing record 441 of Set 1 | cerrito\n",
      "Processing record 442 of Set 1 | dudinka\n",
      "Record not found\n",
      "Processing record 443 of Set 1 | nishihara\n",
      "Processing record 444 of Set 1 | shihezi\n",
      "Record not found\n",
      "Processing record 445 of Set 1 | ambunti\n",
      "Processing record 446 of Set 1 | miri\n",
      "Processing record 447 of Set 1 | quatre cocos\n",
      "Processing record 448 of Set 1 | harwich\n",
      "Processing record 449 of Set 1 | nedjo\n",
      "Processing record 450 of Set 1 | moranbah\n",
      "Processing record 451 of Set 1 | mount isa\n",
      "Processing record 452 of Set 1 | dhidhdhoo\n",
      "Processing record 453 of Set 1 | anderson\n",
      "Processing record 454 of Set 1 | pangnirtung\n",
      "Processing record 455 of Set 1 | kaele\n",
      "Processing record 456 of Set 1 | pullman\n",
      "Processing record 457 of Set 1 | yamada\n",
      "Processing record 458 of Set 1 | banda aceh\n",
      "Processing record 459 of Set 1 | dera bugti\n",
      "Processing record 460 of Set 1 | ishigaki\n",
      "Processing record 461 of Set 1 | san vicente\n",
      "Processing record 462 of Set 1 | kunigal\n",
      "Processing record 463 of Set 1 | gopalpur\n",
      "Processing record 464 of Set 1 | beeville\n",
      "Record not found\n",
      "Processing record 465 of Set 1 | alyangula\n",
      "Processing record 466 of Set 1 | ixtapa\n",
      "Processing record 467 of Set 1 | cayenne\n",
      "Processing record 468 of Set 1 | dingle\n",
      "Processing record 469 of Set 1 | karatau\n",
      "Processing record 470 of Set 1 | raudeberg\n",
      "Processing record 471 of Set 1 | olinda\n",
      "Processing record 472 of Set 1 | aykhal\n",
      "Processing record 473 of Set 1 | prince rupert\n",
      "Processing record 474 of Set 1 | oranjemund\n",
      "Processing record 475 of Set 1 | port elizabeth\n",
      "Processing record 476 of Set 1 | oblivskaya\n",
      "Processing record 477 of Set 1 | ginda\n",
      "Processing record 478 of Set 1 | benguela\n",
      "Processing record 479 of Set 1 | san francisco\n",
      "Processing record 480 of Set 1 | otjimbingwe\n",
      "Processing record 481 of Set 1 | sorland\n",
      "Processing record 482 of Set 1 | batagay-alyta\n",
      "Processing record 483 of Set 1 | camana\n",
      "Processing record 484 of Set 1 | ridgecrest\n",
      "Processing record 485 of Set 1 | nizhniy kuranakh\n",
      "Processing record 486 of Set 1 | salo\n",
      "Processing record 487 of Set 1 | aripuana\n",
      "Processing record 488 of Set 1 | melioratorov\n",
      "Processing record 489 of Set 1 | bathsheba\n",
      "Processing record 490 of Set 1 | ampanihy\n",
      "Record not found\n",
      "Processing record 491 of Set 1 | kosikha\n",
      "Processing record 492 of Set 1 | koumac\n",
      "Processing record 493 of Set 1 | enshi\n",
      "Processing record 494 of Set 1 | fayaoue\n",
      "Processing record 495 of Set 1 | vuktyl\n",
      "Processing record 496 of Set 1 | srednekolymsk\n",
      "Processing record 497 of Set 1 | kimberley\n",
      "Record not found\n",
      "Processing record 498 of Set 1 | cabedelo\n",
      "Processing record 499 of Set 1 | llanes\n",
      "Processing record 500 of Set 1 | wattegama\n",
      "Processing record 501 of Set 1 | burla\n",
      "Processing record 502 of Set 1 | port hedland\n",
      "Processing record 503 of Set 1 | barpali\n",
      "Record not found\n",
      "Processing record 504 of Set 1 | ginosa\n",
      "Processing record 505 of Set 1 | cascais\n",
      "Processing record 506 of Set 1 | surt\n",
      "Processing record 507 of Set 1 | the pas\n",
      "Processing record 508 of Set 1 | lang son\n",
      "Processing record 509 of Set 1 | sinnamary\n",
      "Record not found\n",
      "Record not found\n",
      "Processing record 510 of Set 1 | dabakala\n",
      "Processing record 511 of Set 1 | nampula\n",
      "Processing record 512 of Set 1 | assiniboia\n",
      "Processing record 513 of Set 1 | bestobe\n",
      "Processing record 514 of Set 1 | funadhoo\n",
      "Processing record 515 of Set 1 | bubaque\n",
      "Processing record 516 of Set 1 | andenes\n",
      "Processing record 517 of Set 1 | faya\n",
      "Processing record 518 of Set 1 | santa rosa\n",
      "Processing record 519 of Set 1 | khandyga\n",
      "Processing record 520 of Set 1 | kyra\n",
      "Processing record 521 of Set 1 | tomatlan\n",
      "Processing record 522 of Set 1 | waingapu\n",
      "Processing record 523 of Set 1 | szodliget\n",
      "Processing record 524 of Set 1 | anadyr\n",
      "Processing record 525 of Set 1 | caravelas\n",
      "Processing record 526 of Set 1 | karratha\n",
      "Record not found\n",
      "Processing record 527 of Set 1 | yar-sale\n",
      "Record not found\n",
      "Record not found\n",
      "Processing record 528 of Set 1 | pangai\n",
      "Processing record 529 of Set 1 | berlevag\n",
      "Processing record 530 of Set 1 | san borja\n",
      "Processing record 531 of Set 1 | clyde river\n",
      "Processing record 532 of Set 1 | merced\n",
      "Processing record 533 of Set 1 | turayf\n",
      "Processing record 534 of Set 1 | manzil kamil\n",
      "Processing record 535 of Set 1 | dakoro\n",
      "Processing record 536 of Set 1 | lyubertsy\n",
      "Processing record 537 of Set 1 | gat\n",
      "Processing record 538 of Set 1 | hasaki\n",
      "Processing record 539 of Set 1 | sungaipenuh\n",
      "Processing record 540 of Set 1 | nadym\n",
      "Processing record 541 of Set 1 | bichura\n",
      "Processing record 542 of Set 1 | narsaq\n",
      "Processing record 543 of Set 1 | bafoulabe\n",
      "Processing record 544 of Set 1 | goundam\n",
      "Processing record 545 of Set 1 | isa khel\n",
      "Processing record 546 of Set 1 | acapulco\n",
      "Processing record 547 of Set 1 | lazaro cardenas\n",
      "Processing record 548 of Set 1 | kahului\n",
      "Processing record 549 of Set 1 | coihaique\n",
      "Processing record 550 of Set 1 | new baltimore\n",
      "Processing record 551 of Set 1 | beruwala\n",
      "Processing record 552 of Set 1 | stornoway\n",
      "Processing record 553 of Set 1 | teya\n",
      "Record not found\n",
      "Processing record 554 of Set 1 | maliq\n",
      "Processing record 555 of Set 1 | florence\n",
      "Processing record 556 of Set 1 | severodvinsk\n",
      "Processing record 557 of Set 1 | iquitos\n",
      "Processing record 558 of Set 1 | suntar\n",
      "Processing record 559 of Set 1 | fortuna\n",
      "I made it through the gauntlet. The message survived!\n"
     ]
    }
   ],
   "source": [
    "url = \"http://api.openweathermap.org/data/2.5/forecast?id=524901&APPID=\"\n",
    "target_url = url + weather_api_key\n",
    "target_url\n",
    "cityname = []\n",
    "cloudiness = []\n",
    "country = []\n",
    "date = []\n",
    "humidity = []\n",
    "lat = []\n",
    "lng = []\n",
    "max_temp = []\n",
    "wind_speed = []\n",
    "count = 0\n",
    "for city in cities:\n",
    "    weather_response = requests.get(target_url + \"&q=\" + city + \"&units=Imperial\")\n",
    "    weather_json = weather_response.json()\n",
    "    try:\n",
    "        cityname.append(weather_json['city']['name'])\n",
    "        cloudiness.append(weather_json['list'][0]['clouds']['all'])\n",
    "        country.append(weather_json['city']['country'])\n",
    "        date.append(weather_json['list'][0]['dt'])\n",
    "        humidity.append(weather_json['list'][0]['main']['humidity'])\n",
    "        lat.append(weather_json['city']['coord']['lat'])\n",
    "        lng.append(weather_json['city']['coord']['lon'])\n",
    "        max_temp.append(weather_json['list'][0]['main']['temp_max'])\n",
    "        wind_speed.append(weather_json['list'][0]['wind']['speed'])\n",
    "        count = count + 1\n",
    "        print(f\"Processing record {count} of Set 1 | {city}\")\n",
    "    except:\n",
    "        print(\"Record not found\") \n",
    "        pass\n",
    "        \n",
    "print(\"I made it through the gauntlet. The message survived!\")\n"
   ]
  },
  {
   "cell_type": "markdown",
   "metadata": {},
   "source": [
    "### Convert Raw Data to DataFrame\n",
    "* Export the city data into a .csv.\n",
    "* Display the DataFrame"
   ]
  },
  {
   "cell_type": "code",
   "execution_count": 28,
   "metadata": {},
   "outputs": [
    {
     "data": {
      "text/plain": [
       "559"
      ]
     },
     "execution_count": 28,
     "metadata": {},
     "output_type": "execute_result"
    }
   ],
   "source": [
    "weather_dict = {\"City\": cityname,\"Latitude\": lat, \"Longitude\":lng,\n",
    "                \"Max Temp\":max_temp,\"Humidity\":humidity,\"Cloudiness\":cloudiness,\n",
    "                \"Wind Speed\":wind_speed,\"Country\":country, \"Date\":date}\n",
    "weather_data = pd.DataFrame(weather_dict)\n",
    "weather_data.head()\n"
   ]
  },
  {
   "cell_type": "code",
   "execution_count": 29,
   "metadata": {},
   "outputs": [
    {
     "data": {
      "text/plain": [
       "559"
      ]
     },
     "execution_count": 29,
     "metadata": {},
     "output_type": "execute_result"
    }
   ],
   "source": [
    "weather_data.to_csv(r'output_data\\my_weather_data.csv')\n",
    "# Show Record Count\n",
    "countforme = len(weather_data)\n",
    "countforme"
   ]
  },
  {
   "cell_type": "markdown",
   "metadata": {},
   "source": [
    "## Inspect the data and remove the cities where the humidity > 100%.\n",
    "----\n",
    "Skip this step if there are no cities that have humidity > 100%. "
   ]
  },
  {
   "cell_type": "code",
   "execution_count": 6,
   "metadata": {},
   "outputs": [
    {
     "data": {
      "text/html": [
       "<div>\n",
       "<style scoped>\n",
       "    .dataframe tbody tr th:only-of-type {\n",
       "        vertical-align: middle;\n",
       "    }\n",
       "\n",
       "    .dataframe tbody tr th {\n",
       "        vertical-align: top;\n",
       "    }\n",
       "\n",
       "    .dataframe thead th {\n",
       "        text-align: right;\n",
       "    }\n",
       "</style>\n",
       "<table border=\"1\" class=\"dataframe\">\n",
       "  <thead>\n",
       "    <tr style=\"text-align: right;\">\n",
       "      <th></th>\n",
       "      <th>Lat</th>\n",
       "      <th>Lng</th>\n",
       "      <th>Max Temp</th>\n",
       "      <th>Humidity</th>\n",
       "      <th>Cloudiness</th>\n",
       "      <th>Wind Speed</th>\n",
       "      <th>Date</th>\n",
       "    </tr>\n",
       "  </thead>\n",
       "  <tbody>\n",
       "    <tr>\n",
       "      <th>count</th>\n",
       "      <td>550.000000</td>\n",
       "      <td>550.000000</td>\n",
       "      <td>550.000000</td>\n",
       "      <td>550.000000</td>\n",
       "      <td>550.000000</td>\n",
       "      <td>550.000000</td>\n",
       "      <td>5.500000e+02</td>\n",
       "    </tr>\n",
       "    <tr>\n",
       "      <th>mean</th>\n",
       "      <td>19.973545</td>\n",
       "      <td>17.124400</td>\n",
       "      <td>58.331400</td>\n",
       "      <td>67.890909</td>\n",
       "      <td>52.141818</td>\n",
       "      <td>8.544800</td>\n",
       "      <td>1.585764e+09</td>\n",
       "    </tr>\n",
       "    <tr>\n",
       "      <th>std</th>\n",
       "      <td>33.284840</td>\n",
       "      <td>91.595451</td>\n",
       "      <td>25.795297</td>\n",
       "      <td>20.864881</td>\n",
       "      <td>35.766469</td>\n",
       "      <td>6.078869</td>\n",
       "      <td>5.539674e+01</td>\n",
       "    </tr>\n",
       "    <tr>\n",
       "      <th>min</th>\n",
       "      <td>-54.800000</td>\n",
       "      <td>-179.170000</td>\n",
       "      <td>-11.340000</td>\n",
       "      <td>9.000000</td>\n",
       "      <td>0.000000</td>\n",
       "      <td>0.160000</td>\n",
       "      <td>1.585764e+09</td>\n",
       "    </tr>\n",
       "    <tr>\n",
       "      <th>25%</th>\n",
       "      <td>-8.077500</td>\n",
       "      <td>-64.627500</td>\n",
       "      <td>42.800000</td>\n",
       "      <td>55.000000</td>\n",
       "      <td>20.000000</td>\n",
       "      <td>4.525000</td>\n",
       "      <td>1.585764e+09</td>\n",
       "    </tr>\n",
       "    <tr>\n",
       "      <th>50%</th>\n",
       "      <td>23.630000</td>\n",
       "      <td>19.635000</td>\n",
       "      <td>64.940000</td>\n",
       "      <td>72.000000</td>\n",
       "      <td>57.000000</td>\n",
       "      <td>7.325000</td>\n",
       "      <td>1.585764e+09</td>\n",
       "    </tr>\n",
       "    <tr>\n",
       "      <th>75%</th>\n",
       "      <td>48.672500</td>\n",
       "      <td>97.350000</td>\n",
       "      <td>78.800000</td>\n",
       "      <td>83.000000</td>\n",
       "      <td>86.750000</td>\n",
       "      <td>11.410000</td>\n",
       "      <td>1.585764e+09</td>\n",
       "    </tr>\n",
       "    <tr>\n",
       "      <th>max</th>\n",
       "      <td>78.220000</td>\n",
       "      <td>179.320000</td>\n",
       "      <td>102.200000</td>\n",
       "      <td>100.000000</td>\n",
       "      <td>100.000000</td>\n",
       "      <td>46.080000</td>\n",
       "      <td>1.585764e+09</td>\n",
       "    </tr>\n",
       "  </tbody>\n",
       "</table>\n",
       "</div>"
      ],
      "text/plain": [
       "              Lat         Lng    Max Temp    Humidity  Cloudiness  Wind Speed  \\\n",
       "count  550.000000  550.000000  550.000000  550.000000  550.000000  550.000000   \n",
       "mean    19.973545   17.124400   58.331400   67.890909   52.141818    8.544800   \n",
       "std     33.284840   91.595451   25.795297   20.864881   35.766469    6.078869   \n",
       "min    -54.800000 -179.170000  -11.340000    9.000000    0.000000    0.160000   \n",
       "25%     -8.077500  -64.627500   42.800000   55.000000   20.000000    4.525000   \n",
       "50%     23.630000   19.635000   64.940000   72.000000   57.000000    7.325000   \n",
       "75%     48.672500   97.350000   78.800000   83.000000   86.750000   11.410000   \n",
       "max     78.220000  179.320000  102.200000  100.000000  100.000000   46.080000   \n",
       "\n",
       "               Date  \n",
       "count  5.500000e+02  \n",
       "mean   1.585764e+09  \n",
       "std    5.539674e+01  \n",
       "min    1.585764e+09  \n",
       "25%    1.585764e+09  \n",
       "50%    1.585764e+09  \n",
       "75%    1.585764e+09  \n",
       "max    1.585764e+09  "
      ]
     },
     "execution_count": 6,
     "metadata": {},
     "output_type": "execute_result"
    }
   ],
   "source": []
  },
  {
   "cell_type": "code",
   "execution_count": 17,
   "metadata": {},
   "outputs": [
    {
     "data": {
      "text/plain": [
       "Int64Index([], dtype='int64')"
      ]
     },
     "execution_count": 17,
     "metadata": {},
     "output_type": "execute_result"
    }
   ],
   "source": [
    "#  Get the indices of cities that have humidity over 100%.\n"
   ]
  },
  {
   "cell_type": "code",
   "execution_count": 19,
   "metadata": {},
   "outputs": [
    {
     "data": {
      "text/html": [
       "<div>\n",
       "<style scoped>\n",
       "    .dataframe tbody tr th:only-of-type {\n",
       "        vertical-align: middle;\n",
       "    }\n",
       "\n",
       "    .dataframe tbody tr th {\n",
       "        vertical-align: top;\n",
       "    }\n",
       "\n",
       "    .dataframe thead th {\n",
       "        text-align: right;\n",
       "    }\n",
       "</style>\n",
       "<table border=\"1\" class=\"dataframe\">\n",
       "  <thead>\n",
       "    <tr style=\"text-align: right;\">\n",
       "      <th></th>\n",
       "      <th>City</th>\n",
       "      <th>Lat</th>\n",
       "      <th>Lng</th>\n",
       "      <th>Max Temp</th>\n",
       "      <th>Humidity</th>\n",
       "      <th>Cloudiness</th>\n",
       "      <th>Wind Speed</th>\n",
       "      <th>Country</th>\n",
       "      <th>Date</th>\n",
       "    </tr>\n",
       "  </thead>\n",
       "  <tbody>\n",
       "    <tr>\n",
       "      <td>0</td>\n",
       "      <td>butaritari</td>\n",
       "      <td>3.07</td>\n",
       "      <td>172.79</td>\n",
       "      <td>83.32</td>\n",
       "      <td>74</td>\n",
       "      <td>84</td>\n",
       "      <td>10.42</td>\n",
       "      <td>KI</td>\n",
       "      <td>1593605283</td>\n",
       "    </tr>\n",
       "    <tr>\n",
       "      <td>1</td>\n",
       "      <td>yerbogachen</td>\n",
       "      <td>61.28</td>\n",
       "      <td>108.01</td>\n",
       "      <td>79.52</td>\n",
       "      <td>58</td>\n",
       "      <td>20</td>\n",
       "      <td>7.70</td>\n",
       "      <td>RU</td>\n",
       "      <td>1593605121</td>\n",
       "    </tr>\n",
       "    <tr>\n",
       "      <td>2</td>\n",
       "      <td>cape town</td>\n",
       "      <td>-33.93</td>\n",
       "      <td>18.42</td>\n",
       "      <td>73.00</td>\n",
       "      <td>77</td>\n",
       "      <td>27</td>\n",
       "      <td>4.70</td>\n",
       "      <td>ZA</td>\n",
       "      <td>1593605039</td>\n",
       "    </tr>\n",
       "    <tr>\n",
       "      <td>3</td>\n",
       "      <td>touba</td>\n",
       "      <td>8.28</td>\n",
       "      <td>-7.68</td>\n",
       "      <td>79.97</td>\n",
       "      <td>75</td>\n",
       "      <td>82</td>\n",
       "      <td>3.58</td>\n",
       "      <td>CI</td>\n",
       "      <td>1593605284</td>\n",
       "    </tr>\n",
       "    <tr>\n",
       "      <td>4</td>\n",
       "      <td>jamestown</td>\n",
       "      <td>42.10</td>\n",
       "      <td>-79.24</td>\n",
       "      <td>64.00</td>\n",
       "      <td>88</td>\n",
       "      <td>1</td>\n",
       "      <td>6.93</td>\n",
       "      <td>US</td>\n",
       "      <td>1593605284</td>\n",
       "    </tr>\n",
       "  </tbody>\n",
       "</table>\n",
       "</div>"
      ],
      "text/plain": [
       "          City    Lat     Lng  Max Temp  Humidity  Cloudiness  Wind Speed  \\\n",
       "0   butaritari   3.07  172.79     83.32        74          84       10.42   \n",
       "1  yerbogachen  61.28  108.01     79.52        58          20        7.70   \n",
       "2    cape town -33.93   18.42     73.00        77          27        4.70   \n",
       "3        touba   8.28   -7.68     79.97        75          82        3.58   \n",
       "4    jamestown  42.10  -79.24     64.00        88           1        6.93   \n",
       "\n",
       "  Country        Date  \n",
       "0      KI  1593605283  \n",
       "1      RU  1593605121  \n",
       "2      ZA  1593605039  \n",
       "3      CI  1593605284  \n",
       "4      US  1593605284  "
      ]
     },
     "execution_count": 19,
     "metadata": {},
     "output_type": "execute_result"
    }
   ],
   "source": [
    "# Make a new DataFrame equal to the city data to drop all humidity outliers by index.\n",
    "# Passing \"inplace=False\" will make a copy of the city_data DataFrame, which we call \"clean_city_data\".\n"
   ]
  },
  {
   "cell_type": "code",
   "execution_count": null,
   "metadata": {},
   "outputs": [],
   "source": [
    "\n"
   ]
  },
  {
   "cell_type": "markdown",
   "metadata": {},
   "source": [
    "## Plotting the Data\n",
    "* Use proper labeling of the plots using plot titles (including date of analysis) and axes labels.\n",
    "* Save the plotted figures as .pngs."
   ]
  },
  {
   "cell_type": "markdown",
   "metadata": {},
   "source": [
    "## Latitude vs. Temperature Plot"
   ]
  },
  {
   "cell_type": "code",
   "execution_count": 36,
   "metadata": {
    "scrolled": true
   },
   "outputs": [
    {
     "data": {
      "image/png": "[encoded data removed]",
      "text/plain": [
       "<Figure size 432x288 with 1 Axes>"
      ]
     },
     "metadata": {
      "needs_background": "light"
     },
     "output_type": "display_data"
    }
   ],
   "source": [
    "plt.scatter(weather_data[\"Latitude\"], weather_data[\"Max Temp\"], facecolors=\"blue\", marker=\"o\", edgecolor=\"black\")\n",
    "plt.title(\"City Latitude vs. Max Temperature (14/06/2021)\")\n",
    "plt.ylabel(\"Max Temperature (°F)\")\n",
    "plt.xlabel(\"Latitude\")\n",
    "plt.grid(True)\n",
    "\n",
    "# Save Figure\n",
    "plt.savefig(\"./output_data/City_Latitude_vs_Max_Temperature.png\")\n",
    "\n",
    "# Show Plot\n",
    "plt.show()"
   ]
  },
  {
   "cell_type": "markdown",
   "metadata": {},
   "source": [
    "## Latitude vs. Humidity Plot"
   ]
  },
  {
   "cell_type": "code",
   "execution_count": 37,
   "metadata": {},
   "outputs": [
    {
     "data": {
      "image/png": "[encoded data removed]",
      "text/plain": [
       "<Figure size 432x288 with 1 Axes>"
      ]
     },
     "metadata": {
      "needs_background": "light"
     },
     "output_type": "display_data"
    }
   ],
   "source": [
    "plt.scatter(weather_data[\"Latitude\"], weather_data[\"Humidity\"], facecolors=\"blue\", marker=\"o\", edgecolor=\"black\")\n",
    "plt.title(\"City Latitude vs. Humidity (14/06/2021)\")\n",
    "plt.ylabel(\"Humidty %\")\n",
    "plt.xlabel(\"Latitude\")\n",
    "plt.grid(True)\n",
    "\n",
    "# Save Figure\n",
    "plt.savefig(\"./output_data/Latitude_vs_Humidity.png\")\n",
    "\n",
    "# Show Plot\n",
    "plt.show()"
   ]
  },
  {
   "cell_type": "markdown",
   "metadata": {},
   "source": [
    "## Latitude vs. Cloudiness Plot"
   ]
  },
  {
   "cell_type": "code",
   "execution_count": 38,
   "metadata": {},
   "outputs": [
    {
     "data": {
      "image/png": "[encoded data removed]",
      "text/plain": [
       "<Figure size 432x288 with 1 Axes>"
      ]
     },
     "metadata": {
      "needs_background": "light"
     },
     "output_type": "display_data"
    }
   ],
   "source": [
    "plt.scatter(weather_data[\"Latitude\"], weather_data[\"Cloudiness\"], facecolors=\"blue\", marker=\"o\", edgecolor=\"black\")\n",
    "plt.title(\"City Latitude vs. Cloudiness (14/06/2021)\")\n",
    "plt.ylabel(\"Cloudiness %\")\n",
    "plt.xlabel(\"Latitude\")\n",
    "plt.grid(True)\n",
    "\n",
    "# Save Figure\n",
    "plt.savefig(\"./output_data/Latitude_vs_Cloudiness.png\")\n",
    "\n",
    "# Show Plot\n",
    "plt.show()"
   ]
  },
  {
   "cell_type": "markdown",
   "metadata": {},
   "source": [
    "## Latitude vs. Wind Speed Plot"
   ]
  },
  {
   "cell_type": "code",
   "execution_count": 39,
   "metadata": {},
   "outputs": [
    {
     "data": {
      "image/png": "[encoded data removed]",
      "text/plain": [
       "<Figure size 432x288 with 1 Axes>"
      ]
     },
     "metadata": {
      "needs_background": "light"
     },
     "output_type": "display_data"
    }
   ],
   "source": [
    "plt.scatter(weather_data[\"Latitude\"], weather_data[\"Wind Speed\"], facecolors=\"blue\", marker=\"o\", edgecolor=\"black\")\n",
    "plt.title(\"City Latitude vs. Wind Speed (14/06/2021)\")\n",
    "plt.ylabel(\"Wind Speed (mph)\")\n",
    "plt.xlabel(\"Latitude\")\n",
    "plt.grid(True)\n",
    "\n",
    "# Save Figure\n",
    "plt.savefig(\"./output_data/Latitude_vs_Wind Speed.png\")\n",
    "\n",
    "# Show Plot\n",
    "plt.show()"
   ]
  },
  {
   "cell_type": "markdown",
   "metadata": {},
   "source": [
    "## Linear Regression"
   ]
  },
  {
   "cell_type": "code",
   "execution_count": 40,
   "metadata": {},
   "outputs": [
    {
     "data": {
      "text/html": [
       "<div>\n",
       "<style scoped>\n",
       "    .dataframe tbody tr th:only-of-type {\n",
       "        vertical-align: middle;\n",
       "    }\n",
       "\n",
       "    .dataframe tbody tr th {\n",
       "        vertical-align: top;\n",
       "    }\n",
       "\n",
       "    .dataframe thead th {\n",
       "        text-align: right;\n",
       "    }\n",
       "</style>\n",
       "<table border=\"1\" class=\"dataframe\">\n",
       "  <thead>\n",
       "    <tr style=\"text-align: right;\">\n",
       "      <th></th>\n",
       "      <th>City</th>\n",
       "      <th>Latitude</th>\n",
       "      <th>Longitude</th>\n",
       "      <th>Max Temp</th>\n",
       "      <th>Humidity</th>\n",
       "      <th>Cloudiness</th>\n",
       "      <th>Wind Speed</th>\n",
       "      <th>Country</th>\n",
       "      <th>Date</th>\n",
       "    </tr>\n",
       "  </thead>\n",
       "  <tbody>\n",
       "    <tr>\n",
       "      <th>0</th>\n",
       "      <td>Cabo San Lucas</td>\n",
       "      <td>22.8909</td>\n",
       "      <td>-109.9124</td>\n",
       "      <td>76.33</td>\n",
       "      <td>78</td>\n",
       "      <td>100</td>\n",
       "      <td>1.77</td>\n",
       "      <td>MX</td>\n",
       "      <td>1623661200</td>\n",
       "    </tr>\n",
       "    <tr>\n",
       "      <th>2</th>\n",
       "      <td>George Town</td>\n",
       "      <td>5.4112</td>\n",
       "      <td>100.3354</td>\n",
       "      <td>88.63</td>\n",
       "      <td>64</td>\n",
       "      <td>20</td>\n",
       "      <td>5.37</td>\n",
       "      <td>MY</td>\n",
       "      <td>1623661200</td>\n",
       "    </tr>\n",
       "    <tr>\n",
       "      <th>3</th>\n",
       "      <td>Sibolga</td>\n",
       "      <td>1.7427</td>\n",
       "      <td>98.7792</td>\n",
       "      <td>86.11</td>\n",
       "      <td>69</td>\n",
       "      <td>92</td>\n",
       "      <td>4.43</td>\n",
       "      <td>ID</td>\n",
       "      <td>1623661200</td>\n",
       "    </tr>\n",
       "    <tr>\n",
       "      <th>6</th>\n",
       "      <td>Hofn</td>\n",
       "      <td>64.2539</td>\n",
       "      <td>-15.2082</td>\n",
       "      <td>41.40</td>\n",
       "      <td>60</td>\n",
       "      <td>75</td>\n",
       "      <td>14.16</td>\n",
       "      <td>IS</td>\n",
       "      <td>1623661200</td>\n",
       "    </tr>\n",
       "    <tr>\n",
       "      <th>7</th>\n",
       "      <td>Yellowknife</td>\n",
       "      <td>62.4560</td>\n",
       "      <td>-114.3525</td>\n",
       "      <td>54.12</td>\n",
       "      <td>82</td>\n",
       "      <td>20</td>\n",
       "      <td>7.96</td>\n",
       "      <td>CA</td>\n",
       "      <td>1623661200</td>\n",
       "    </tr>\n",
       "  </tbody>\n",
       "</table>\n",
       "</div>"
      ],
      "text/plain": [
       "             City  Latitude  Longitude  Max Temp  Humidity  Cloudiness  \\\n",
       "0  Cabo San Lucas   22.8909  -109.9124     76.33        78         100   \n",
       "2     George Town    5.4112   100.3354     88.63        64          20   \n",
       "3         Sibolga    1.7427    98.7792     86.11        69          92   \n",
       "6            Hofn   64.2539   -15.2082     41.40        60          75   \n",
       "7     Yellowknife   62.4560  -114.3525     54.12        82          20   \n",
       "\n",
       "   Wind Speed Country        Date  \n",
       "0        1.77      MX  1623661200  \n",
       "2        5.37      MY  1623661200  \n",
       "3        4.43      ID  1623661200  \n",
       "6       14.16      IS  1623661200  \n",
       "7        7.96      CA  1623661200  "
      ]
     },
     "execution_count": 40,
     "metadata": {},
     "output_type": "execute_result"
    }
   ],
   "source": [
    "def plot_linear_regression(x_values, y_values, title, text_coordinates):\n",
    "    (slope, intercept, rvalue, pvalue, stderr) = linregress(x_values, y_values)\n",
    "    regress_values = x_values * slope + intercept\n",
    "    line_eq = \"y = \" + str(round(slope,2)) + \"x + \" + str(round(intercept,2))\n",
    "    \n",
    "    plt.scatter(x_values,y_values)\n",
    "    plt.plot(x_values,regress_values,\"r-\")\n",
    "    plt.annotate(line_eq,text_coordinates,fontsize=14,color=\"red\")\n",
    "    plt.xlabel(\"Latitude\")\n",
    "    plt.ylabel(title)\n",
    "    print(f\"The r-squared is: {rvalue}\")\n",
    "    plt.show()\n",
    "northlat_df = weather_data.loc[weather_data[\"Latitude\"] >= 0,:]\n",
    "southlat_df = weather_data.loc[weather_data[\"Latitude\"] < 0,:]\n",
    "\n",
    "northlat_df.head()"
   ]
  },
  {
   "cell_type": "markdown",
   "metadata": {},
   "source": [
    "####  Northern Hemisphere - Max Temp vs. Latitude Linear Regression"
   ]
  },
  {
   "cell_type": "code",
   "execution_count": 41,
   "metadata": {},
   "outputs": [
    {
     "name": "stdout",
     "output_type": "stream",
     "text": [
      "The r-squared is: -0.7143566930647817\n"
     ]
    },
    {
     "data": {
      "image/png": "[encoded data removed]",
      "text/plain": [
       "<Figure size 432x288 with 1 Axes>"
      ]
     },
     "metadata": {
      "needs_background": "light"
     },
     "output_type": "display_data"
    },
    {
     "data": {
      "text/plain": [
       "<Figure size 432x288 with 0 Axes>"
      ]
     },
     "metadata": {},
     "output_type": "display_data"
    }
   ],
   "source": [
    "x_values = northlat_df[\"Latitude\"]\n",
    "y_values = northlat_df[\"Max Temp\"]\n",
    "plot_linear_regression(x_values,y_values,'Max Temp',(6,30))\n",
    "\n",
    "plt.savefig('northerntemplat')"
   ]
  },
  {
   "cell_type": "markdown",
   "metadata": {},
   "source": [
    "####  Southern Hemisphere - Max Temp vs. Latitude Linear Regression"
   ]
  },
  {
   "cell_type": "code",
   "execution_count": 44,
   "metadata": {},
   "outputs": [
    {
     "name": "stdout",
     "output_type": "stream",
     "text": [
      "The r-squared is: 0.7501384037586282\n"
     ]
    },
    {
     "data": {
      "image/png": "[encoded data removed]",
      "text/plain": [
       "<Figure size 432x288 with 1 Axes>"
      ]
     },
     "metadata": {
      "needs_background": "light"
     },
     "output_type": "display_data"
    },
    {
     "data": {
      "text/plain": [
       "<Figure size 432x288 with 0 Axes>"
      ]
     },
     "metadata": {},
     "output_type": "display_data"
    }
   ],
   "source": [
    "x_values = southlat_df[\"Latitude\"]\n",
    "y_values = southlat_df[\"Max Temp\"]\n",
    "plot_linear_regression(x_values,y_values,'Max Temp',(6,30))\n",
    "\n",
    "plt.savefig('southerntemplat')"
   ]
  },
  {
   "cell_type": "markdown",
   "metadata": {},
   "source": [
    "####  Northern Hemisphere - Humidity (%) vs. Latitude Linear Regression"
   ]
  },
  {
   "cell_type": "code",
   "execution_count": 45,
   "metadata": {},
   "outputs": [
    {
     "name": "stdout",
     "output_type": "stream",
     "text": [
      "The r-squared is: -0.009178384825326801\n"
     ]
    },
    {
     "data": {
      "image/png": "[encoded data removed]",
      "text/plain": [
       "<Figure size 432x288 with 1 Axes>"
      ]
     },
     "metadata": {
      "needs_background": "light"
     },
     "output_type": "display_data"
    },
    {
     "data": {
      "text/plain": [
       "<Figure size 432x288 with 0 Axes>"
      ]
     },
     "metadata": {},
     "output_type": "display_data"
    }
   ],
   "source": [
    "x_values = northlat_df[\"Latitude\"]\n",
    "y_values = northlat_df[\"Humidity\"]\n",
    "plot_linear_regression(x_values,y_values,'Humidity',(6,30))\n",
    "\n",
    "plt.savefig('northernhumlat')"
   ]
  },
  {
   "cell_type": "markdown",
   "metadata": {},
   "source": [
    "####  Southern Hemisphere - Humidity (%) vs. Latitude Linear Regression"
   ]
  },
  {
   "cell_type": "code",
   "execution_count": 46,
   "metadata": {},
   "outputs": [
    {
     "name": "stdout",
     "output_type": "stream",
     "text": [
      "The r-squared is: -0.03079858627050097\n"
     ]
    },
    {
     "data": {
      "image/png": "[encoded data removed]",
      "text/plain": [
       "<Figure size 432x288 with 1 Axes>"
      ]
     },
     "metadata": {
      "needs_background": "light"
     },
     "output_type": "display_data"
    },
    {
     "data": {
      "text/plain": [
       "<Figure size 432x288 with 0 Axes>"
      ]
     },
     "metadata": {},
     "output_type": "display_data"
    }
   ],
   "source": [
    "x_values = southlat_df[\"Latitude\"]\n",
    "y_values = southlat_df[\"Humidity\"]\n",
    "plot_linear_regression(x_values,y_values,'Humidity',(6,30))\n",
    "\n",
    "plt.savefig('southernhumlat')"
   ]
  },
  {
   "cell_type": "markdown",
   "metadata": {},
   "source": [
    "####  Northern Hemisphere - Cloudiness (%) vs. Latitude Linear Regression"
   ]
  },
  {
   "cell_type": "code",
   "execution_count": 47,
   "metadata": {},
   "outputs": [
    {
     "name": "stdout",
     "output_type": "stream",
     "text": [
      "The r-squared is: -0.05105477428036811\n"
     ]
    },
    {
     "data": {
      "image/png": "[encoded data removed]",
      "text/plain": [
       "<Figure size 432x288 with 1 Axes>"
      ]
     },
     "metadata": {
      "needs_background": "light"
     },
     "output_type": "display_data"
    },
    {
     "data": {
      "text/plain": [
       "<Figure size 432x288 with 0 Axes>"
      ]
     },
     "metadata": {},
     "output_type": "display_data"
    }
   ],
   "source": [
    "x_values = northlat_df[\"Latitude\"]\n",
    "y_values = northlat_df[\"Cloudiness\"]\n",
    "plot_linear_regression(x_values,y_values,'Cloudiness',(6,30))\n",
    "\n",
    "plt.savefig('northerncloudlat')"
   ]
  },
  {
   "cell_type": "markdown",
   "metadata": {},
   "source": [
    "####  Southern Hemisphere - Cloudiness (%) vs. Latitude Linear Regression"
   ]
  },
  {
   "cell_type": "code",
   "execution_count": 48,
   "metadata": {},
   "outputs": [
    {
     "name": "stdout",
     "output_type": "stream",
     "text": [
      "The r-squared is: 0.10757423766628625\n"
     ]
    },
    {
     "data": {
      "image/png": "[encoded data removed]",
      "text/plain": [
       "<Figure size 432x288 with 1 Axes>"
      ]
     },
     "metadata": {
      "needs_background": "light"
     },
     "output_type": "display_data"
    },
    {
     "data": {
      "text/plain": [
       "<Figure size 432x288 with 0 Axes>"
      ]
     },
     "metadata": {},
     "output_type": "display_data"
    }
   ],
   "source": [
    "x_values = southlat_df[\"Latitude\"]\n",
    "y_values = southlat_df[\"Cloudiness\"]\n",
    "plot_linear_regression(x_values,y_values,'Cloudiness',(6,30))\n",
    "\n",
    "plt.savefig('southerncloudlat')"
   ]
  },
  {
   "cell_type": "markdown",
   "metadata": {},
   "source": [
    "####  Northern Hemisphere - Wind Speed (mph) vs. Latitude Linear Regression"
   ]
  },
  {
   "cell_type": "code",
   "execution_count": 49,
   "metadata": {},
   "outputs": [
    {
     "name": "stdout",
     "output_type": "stream",
     "text": [
      "The r-squared is: -0.07102122861345724\n"
     ]
    },
    {
     "data": {
      "image/png": "[encoded data removed]",
      "text/plain": [
       "<Figure size 432x288 with 1 Axes>"
      ]
     },
     "metadata": {
      "needs_background": "light"
     },
     "output_type": "display_data"
    },
    {
     "data": {
      "text/plain": [
       "<Figure size 432x288 with 0 Axes>"
      ]
     },
     "metadata": {},
     "output_type": "display_data"
    }
   ],
   "source": [
    "x_values = northlat_df[\"Latitude\"]\n",
    "y_values = northlat_df[\"Wind Speed\"]\n",
    "plot_linear_regression(x_values,y_values,'Wind Speed',(6,30))\n",
    "\n",
    "plt.savefig('northernwindlat')"
   ]
  },
  {
   "cell_type": "markdown",
   "metadata": {},
   "source": [
    "####  Southern Hemisphere - Wind Speed (mph) vs. Latitude Linear Regression"
   ]
  },
  {
   "cell_type": "code",
   "execution_count": 50,
   "metadata": {},
   "outputs": [
    {
     "name": "stdout",
     "output_type": "stream",
     "text": [
      "The r-squared is: -0.10316011531663727\n"
     ]
    },
    {
     "data": {
      "image/png": "[encoded data removed]",
      "text/plain": [
       "<Figure size 432x288 with 1 Axes>"
      ]
     },
     "metadata": {
      "needs_background": "light"
     },
     "output_type": "display_data"
    },
    {
     "data": {
      "text/plain": [
       "<Figure size 432x288 with 0 Axes>"
      ]
     },
     "metadata": {},
     "output_type": "display_data"
    }
   ],
   "source": [
    "x_values = southlat_df[\"Latitude\"]\n",
    "y_values = southlat_df[\"Wind Speed\"]\n",
    "plot_linear_regression(x_values,y_values,'Wind Speed',(6,30))\n",
    "\n",
    "plt.savefig('southernwindlat')"
   ]
  },
  {
   "cell_type": "code",
   "execution_count": null,
   "metadata": {},
   "outputs": [],
   "source": []
  }
 ],
 "metadata": {
  "anaconda-cloud": {},
  "kernel_info": {
   "name": "python3"
  },
  "kernelspec": {
   "display_name": "Python 3",
   "language": "python",
   "name": "python3"
  },
  "language_info": {
   "codemirror_mode": {
    "name": "ipython",
    "version": 3
   },
   "file_extension": ".py",
   "mimetype": "text/x-python",
   "name": "python",
   "nbconvert_exporter": "python",
   "pygments_lexer": "ipython3",
   "version": "3.8.8"
  },
  "latex_envs": {
   "LaTeX_envs_menu_present": true,
   "autoclose": false,
   "autocomplete": true,
   "bibliofile": "biblio.bib",
   "cite_by": "apalike",
   "current_citInitial": 1,
   "eqLabelWithNumbers": true,
   "eqNumInitial": 1,
   "hotkeys": {
    "equation": "Ctrl-E",
    "itemize": "Ctrl-I"
   },
   "labels_anchors": false,
   "latex_user_defs": false,
   "report_style_numbering": false,
   "user_envs_cfg": false
  },
  "nteract": {
   "version": "0.12.3"
  }
 },
 "nbformat": 4,
 "nbformat_minor": 2
}
